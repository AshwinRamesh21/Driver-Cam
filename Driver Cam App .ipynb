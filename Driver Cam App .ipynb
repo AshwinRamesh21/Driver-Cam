{
 "cells": [
  {
   "cell_type": "markdown",
   "id": "94685cb4",
   "metadata": {},
   "source": [
    "# Driver Cam Application - CV Week \n",
    "## AI Club, VIT Bhopal\n",
    "#### This is an application that supports multitude of operations ranging from Opening a Camera to Eye Blink Detection"
   ]
  },
  {
   "cell_type": "code",
   "execution_count": null,
   "id": "d429d9ac",
   "metadata": {},
   "outputs": [],
   "source": [
    "# Imports\n",
    "import numpy\n",
    "from pygame import mixer\n",
    "import time\n",
    "import cv2\n",
    "from tkinter import *\n",
    "import tkinter.messagebox"
   ]
  },
  {
   "cell_type": "code",
   "execution_count": null,
   "id": "e411f0b8",
   "metadata": {},
   "outputs": [],
   "source": [
    "# Tkinter window\n",
    "root=Tk()\n",
    "root.geometry('500x570')\n",
    "frame = Frame(root, relief=RIDGE, borderwidth=2)\n",
    "frame.pack(fill=BOTH,expand=1)\n",
    "root.title('Driver Cam')\n",
    "frame.config(background='black')\n",
    "label = Label(frame, text=\"DROWSINESS SYSTEM\",bg='light blue',font=('Times 35 bold'))\n",
    "label.pack(side=TOP)\n",
    "filename = PhotoImage(file=\"./assets/ai.png\")\n",
    "background_label = Label(frame,image=filename)\n",
    "background_label.pack(side=TOP)"
   ]
  },
  {
   "cell_type": "code",
   "execution_count": null,
   "id": "9a81ed5b",
   "metadata": {},
   "outputs": [],
   "source": [
    "# Driver Cam functions\n",
    "def hel():\n",
    "   help(cv2)\n",
    "\n",
    "def Contri():\n",
    "   tkinter.messagebox.showinfo(\"Contributors\",\"\\n1.Ashwin R\\n2. Aishwarya Mudaliar\\n 3. Sandal Agrawal\")\n",
    "\n",
    "def anotherWin():\n",
    "   tkinter.messagebox.showinfo(\"About\",'Driver Cam version v1.0\\n Made Using\\n-OpenCV\\n-Numpy\\n-Tkinter\\n In Python 3')"
   ]
  },
  {
   "cell_type": "code",
   "execution_count": null,
   "id": "af7cc025",
   "metadata": {},
   "outputs": [],
   "source": [
    "# Driver Cam main code\n",
    "menu = Menu(root)\n",
    "root.config(menu=menu)\n",
    "\n",
    "subm1 = Menu(menu)\n",
    "menu.add_cascade(label=\"Tools\",menu=subm1)\n",
    "subm1.add_command(label=\"Open CV Docs\",command=hel)\n",
    "\n",
    "subm2 = Menu(menu)\n",
    "menu.add_cascade(label=\"About\",menu=subm2)\n",
    "subm2.add_command(label=\"Driver Cam\",command=anotherWin)\n",
    "subm2.add_command(label=\"Contributors\",command=Contri)"
   ]
  },
  {
   "cell_type": "code",
   "execution_count": null,
   "id": "2c855de6",
   "metadata": {},
   "outputs": [],
   "source": [
    "# Quitting the Application - Also works by just pressing the 'X' button\n",
    "def exitt():\n",
    "   exit()"
   ]
  },
  {
   "cell_type": "code",
   "execution_count": null,
   "id": "1804c8c9",
   "metadata": {},
   "outputs": [],
   "source": [
    "# Opening the Camera\n",
    "def web():\n",
    "   capture =cv2.VideoCapture(0)\n",
    "   while True:\n",
    "      ret,frame=capture.read()\n",
    "      gray = cv2.cvtColor(frame, cv2.COLOR_BGR2GRAY)\n",
    "      cv2.imshow('frame',frame)\n",
    "      if cv2.waitKey(1) & 0xFF ==ord('q'):\n",
    "         break\n",
    "   capture.release()\n",
    "   cv2.destroyAllWindows()"
   ]
  },
  {
   "cell_type": "code",
   "execution_count": null,
   "id": "248193c3",
   "metadata": {},
   "outputs": [],
   "source": [
    "# Recording\n",
    "def webrec():\n",
    "   capture =cv2.VideoCapture(0)\n",
    "   fourcc=cv2.VideoWriter_fourcc(*'XVID') \n",
    "   op=cv2.VideoWriter('Sample1.avi',fourcc,11.0,(640,480))\n",
    "   while True:\n",
    "      ret,frame=capture.read()\n",
    "      gray = cv2.cvtColor(frame, cv2.COLOR_BGR2GRAY)\n",
    "      cv2.imshow('frame',frame)\n",
    "      op.write(frame)\n",
    "      if cv2.waitKey(1) & 0xFF ==ord('q'):\n",
    "         break\n",
    "            \n",
    "   op.release()\n",
    "   capture.release()\n",
    "   cv2.destroyAllWindows()  "
   ]
  },
  {
   "cell_type": "code",
   "execution_count": null,
   "id": "6754fccc",
   "metadata": {},
   "outputs": [],
   "source": [
    "# Face Detection\n",
    "def webdet():\n",
    "   capture =cv2.VideoCapture(0)\n",
    "   face_cascade = cv2.CascadeClassifier('./assets/haarcascade_frontalface_default.xml')\n",
    "   eye_glass = cv2.CascadeClassifier('./assets/haarcascade_eye_tree_eyeglasses.xml')\n",
    "   \n",
    "   while True:\n",
    "       ret, frame = capture.read()\n",
    "       gray = cv2.cvtColor(frame, cv2.COLOR_BGR2GRAY)\n",
    "       faces = face_cascade.detectMultiScale(gray) \n",
    "\n",
    "       for (x,y,w,h) in faces:\n",
    "           font = cv2.FONT_HERSHEY_COMPLEX\n",
    "           cv2.putText(frame,'Face',(x+w,y+h),font,1,(250,250,250),2,cv2.LINE_AA)\n",
    "           cv2.rectangle(frame,(x,y),(x+w,y+h),(255,0,0),2)\n",
    "           roi_gray = gray[y:y+h, x:x+w]\n",
    "           roi_color = frame[y:y+h, x:x+w]     \n",
    "           eye_g = eye_glass.detectMultiScale(roi_gray)\n",
    "           for (ex,ey,ew,eh) in eye_g:\n",
    "              cv2.rectangle(roi_color,(ex,ey),(ex+ew,ey+eh),(0,255,0),2)\n",
    "\n",
    "       cv2.imshow('frame',frame)\n",
    "       if cv2.waitKey(1) & 0xff == ord('q'):\n",
    "          break\n",
    "        \n",
    "   capture.release()\n",
    "   cv2.destroyAllWindows()"
   ]
  },
  {
   "cell_type": "code",
   "execution_count": null,
   "id": "85ff8a6c",
   "metadata": {},
   "outputs": [],
   "source": [
    "# Face Detection and Recording\n",
    "def webdetRec():\n",
    "   capture =cv2.VideoCapture(0)\n",
    "   face_cascade = cv2.CascadeClassifier('./assets/haarcascade_frontalface_default.xml')\n",
    "   eye_glass = cv2.CascadeClassifier('./assets/haarcascade_eye_tree_eyeglasses.xml')\n",
    "   fourcc=cv2.VideoWriter_fourcc(*'XVID') \n",
    "   op=cv2.VideoWriter('Sample2.avi',fourcc,9.0,(640,480))\n",
    "\n",
    "   while True:\n",
    "       ret, frame = capture.read()\n",
    "       gray = cv2.cvtColor(frame, cv2.COLOR_BGR2GRAY)\n",
    "       faces = face_cascade.detectMultiScale(gray)   \n",
    "\n",
    "       for (x,y,w,h) in faces:\n",
    "           font = cv2.FONT_HERSHEY_COMPLEX\n",
    "           cv2.putText(frame,'Face',(x+w,y+h),font,1,(250,250,250),2,cv2.LINE_AA)\n",
    "           cv2.rectangle(frame,(x,y),(x+w,y+h),(255,0,0),2)\n",
    "           roi_gray = gray[y:y+h, x:x+w]\n",
    "           roi_color = frame[y:y+h, x:x+w]\n",
    "        \n",
    "           eye_g = eye_glass.detectMultiScale(roi_gray)\n",
    "           for (ex,ey,ew,eh) in eye_g:\n",
    "              cv2.rectangle(roi_color,(ex,ey),(ex+ew,ey+eh),(0,255,0),2)\n",
    "       op.write(frame)\n",
    "       cv2.imshow('frame',frame)\n",
    "       if cv2.waitKey(1) & 0xff == ord('q'):\n",
    "          break\n",
    "            \n",
    "   op.release()      \n",
    "   capture.release()\n",
    "   cv2.destroyAllWindows()"
   ]
  },
  {
   "cell_type": "code",
   "execution_count": null,
   "id": "888bc8c9",
   "metadata": {},
   "outputs": [],
   "source": [
    "# Playing 'Beep' Sound\n",
    "def alert():\n",
    "   mixer.init()\n",
    "   alert=mixer.Sound('./assets/beep-07.wav')\n",
    "   alert.play()\n",
    "   time.sleep(0.1)\n",
    "   alert.play()   "
   ]
  },
  {
   "cell_type": "code",
   "execution_count": null,
   "id": "478ac7b3",
   "metadata": {},
   "outputs": [],
   "source": [
    "# Detecting Eye Blinking\n",
    "def blink():\n",
    "   capture =cv2.VideoCapture(0)\n",
    "   face_cascade = cv2.CascadeClassifier('./assets/haarcascade_frontalface_default.xml')\n",
    "   eye_cascade = cv2.CascadeClassifier('./assets/haarcascade_eye_tree_eyeglasses.xml')\n",
    "   blink_cascade = cv2.CascadeClassifier('./assets/CustomBlinkCascade.xml')\n",
    "\n",
    "   while True:\n",
    "      ret, frame = capture.read()\n",
    "      gray = cv2.cvtColor(frame,cv2.COLOR_BGR2GRAY)\n",
    "      faces = face_cascade.detectMultiScale(gray)\n",
    "\n",
    "      for (x,y,w,h) in faces:\n",
    "         font = cv2.FONT_HERSHEY_COMPLEX\n",
    "         cv2.putText(frame,'Face',(x+w,y+h),font,1,(250,250,250),2,cv2.LINE_AA)\n",
    "         cv2.rectangle(frame,(x,y),(x+w,y+h),(255,0,0),2)\n",
    "         roi_gray = gray[y:y+h, x:x+w]\n",
    "         roi_color = frame[y:y+h, x:x+w]\n",
    "\n",
    "         eyes = eye_cascade.detectMultiScale(roi_gray)\n",
    "         for(ex,ey,ew,eh) in eyes:\n",
    "            cv2.rectangle(roi_color,(ex,ey),(ex+ew,ey+eh),(0,255,0),2)\n",
    "\n",
    "         blink = blink_cascade.detectMultiScale(roi_gray)\n",
    "         for(eyx,eyy,eyw,eyh) in blink:\n",
    "            cv2.rectangle(roi_color,(eyx,eyy),(eyx+eyw,eyy+eyh),(255,255,0),2)\n",
    "            alert()\n",
    "      cv2.imshow('frame',frame)\n",
    "      if cv2.waitKey(1) & 0xFF ==ord('q'):\n",
    "          break\n",
    "         \n",
    "   capture.release()\n",
    "   cv2.destroyAllWindows()"
   ]
  },
  {
   "cell_type": "code",
   "execution_count": null,
   "id": "060c1832",
   "metadata": {},
   "outputs": [],
   "source": [
    "# Buttons\n",
    "but1=Button(frame,padx=5,pady=5,width=39,bg='white',fg='black',relief=GROOVE,command=web,text='Open Camera',font=('helvetica 15 bold'))\n",
    "but1.place(x=5,y=104)\n",
    "\n",
    "but2=Button(frame,padx=5,pady=5,width=39,bg='white',fg='black',relief=GROOVE,command=webrec,text='Recording',font=('helvetica 15 bold'))\n",
    "but2.place(x=5,y=176)\n",
    "\n",
    "but3=Button(frame,padx=5,pady=5,width=39,bg='white',fg='black',relief=GROOVE,command=webdet,text='Face Detection',font=('helvetica 15 bold'))\n",
    "but3.place(x=5,y=250)\n",
    "\n",
    "but4=Button(frame,padx=5,pady=5,width=39,bg='white',fg='black',relief=GROOVE,command=webdetRec,text='Detect & Record',font=('helvetica 15 bold'))\n",
    "but4.place(x=5,y=322)\n",
    "\n",
    "but5=Button(frame,padx=5,pady=5,width=39,bg='white',fg='black',relief=GROOVE,command=blink,text='Detect Eye Blink',font=('helvetica 15 bold'))\n",
    "but5.place(x=5,y=400)\n",
    "\n",
    "but5=Button(frame,padx=5,pady=5,width=5,bg='white',fg='black',relief=GROOVE,text='EXIT',command=exitt,font=('helvetica 15 bold'))\n",
    "but5.place(x=210,y=478)"
   ]
  },
  {
   "cell_type": "code",
   "execution_count": null,
   "id": "f295ad95",
   "metadata": {},
   "outputs": [],
   "source": [
    "# Calling the program\n",
    "root.mainloop()"
   ]
  }
 ],
 "metadata": {
  "kernelspec": {
   "display_name": "Python 3 (ipykernel)",
   "language": "python",
   "name": "python3"
  },
  "language_info": {
   "codemirror_mode": {
    "name": "ipython",
    "version": 3
   },
   "file_extension": ".py",
   "mimetype": "text/x-python",
   "name": "python",
   "nbconvert_exporter": "python",
   "pygments_lexer": "ipython3",
   "version": "3.7.7"
  }
 },
 "nbformat": 4,
 "nbformat_minor": 5
}
